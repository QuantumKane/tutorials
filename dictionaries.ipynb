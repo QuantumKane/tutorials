{
 "cells": [
  {
   "cell_type": "code",
   "execution_count": 1,
   "metadata": {},
   "outputs": [
    {
     "name": "stdout",
     "output_type": "stream",
     "text": [
      "{'name': 'Steve', 'age': 25, 'courses': ['Math', 'Biology']}\n"
     ]
    }
   ],
   "source": [
    "student = {'name': 'Steve', 'age': 25, 'courses': ['Math', 'Biology']}\n",
    "\n",
    "print(student)"
   ]
  },
  {
   "cell_type": "code",
   "execution_count": 2,
   "metadata": {},
   "outputs": [
    {
     "name": "stdout",
     "output_type": "stream",
     "text": [
      "Steve\n"
     ]
    }
   ],
   "source": [
    "student = {'name': 'Steve', 'age': 25, 'courses': ['Math', 'Biology']}\n",
    "\n",
    "print(student['name'])"
   ]
  },
  {
   "cell_type": "code",
   "execution_count": 3,
   "metadata": {},
   "outputs": [
    {
     "name": "stdout",
     "output_type": "stream",
     "text": [
      "['Math', 'Biology']\n"
     ]
    }
   ],
   "source": [
    "student = {'name': 'Steve', 'age': 25, 'courses': ['Math', 'Biology']}\n",
    "\n",
    "print(student['courses'])"
   ]
  },
  {
   "cell_type": "code",
   "execution_count": 4,
   "metadata": {},
   "outputs": [
    {
     "ename": "KeyError",
     "evalue": "'phone'",
     "output_type": "error",
     "traceback": [
      "\u001b[0;31m---------------------------------------------------------------------------\u001b[0m",
      "\u001b[0;31mKeyError\u001b[0m                                  Traceback (most recent call last)",
      "\u001b[0;32m<ipython-input-4-a4eb22745b49>\u001b[0m in \u001b[0;36m<module>\u001b[0;34m\u001b[0m\n\u001b[1;32m      1\u001b[0m \u001b[0mstudent\u001b[0m \u001b[0;34m=\u001b[0m \u001b[0;34m{\u001b[0m\u001b[0;34m'name'\u001b[0m\u001b[0;34m:\u001b[0m \u001b[0;34m'Steve'\u001b[0m\u001b[0;34m,\u001b[0m \u001b[0;34m'age'\u001b[0m\u001b[0;34m:\u001b[0m \u001b[0;36m25\u001b[0m\u001b[0;34m,\u001b[0m \u001b[0;34m'courses'\u001b[0m\u001b[0;34m:\u001b[0m \u001b[0;34m[\u001b[0m\u001b[0;34m'Math'\u001b[0m\u001b[0;34m,\u001b[0m \u001b[0;34m'Biology'\u001b[0m\u001b[0;34m]\u001b[0m\u001b[0;34m}\u001b[0m\u001b[0;34m\u001b[0m\u001b[0;34m\u001b[0m\u001b[0m\n\u001b[1;32m      2\u001b[0m \u001b[0;34m\u001b[0m\u001b[0m\n\u001b[0;32m----> 3\u001b[0;31m \u001b[0mprint\u001b[0m\u001b[0;34m(\u001b[0m\u001b[0mstudent\u001b[0m\u001b[0;34m[\u001b[0m\u001b[0;34m'phone'\u001b[0m\u001b[0;34m]\u001b[0m\u001b[0;34m)\u001b[0m\u001b[0;34m\u001b[0m\u001b[0;34m\u001b[0m\u001b[0m\n\u001b[0m",
      "\u001b[0;31mKeyError\u001b[0m: 'phone'"
     ]
    }
   ],
   "source": [
    "student = {'name': 'Steve', 'age': 25, 'courses': ['Math', 'Biology']}\n",
    "\n",
    "print(student['phone'])\n",
    "#cannot access a key that does not exist"
   ]
  },
  {
   "cell_type": "code",
   "execution_count": 5,
   "metadata": {},
   "outputs": [
    {
     "name": "stdout",
     "output_type": "stream",
     "text": [
      "Steve\n"
     ]
    }
   ],
   "source": [
    "student = {'name': 'Steve', 'age': 25, 'courses': ['Math', 'Biology']}\n",
    "\n",
    "print(student.get('name'))"
   ]
  },
  {
   "cell_type": "code",
   "execution_count": 6,
   "metadata": {},
   "outputs": [
    {
     "name": "stdout",
     "output_type": "stream",
     "text": [
      "None\n"
     ]
    }
   ],
   "source": [
    "student = {'name': 'Steve', 'age': 25, 'courses': ['Math', 'Biology']}\n",
    "\n",
    "print(student.get('phone'))\n",
    "#using the 'get' function doesn't throw an error"
   ]
  },
  {
   "cell_type": "code",
   "execution_count": 7,
   "metadata": {},
   "outputs": [
    {
     "name": "stdout",
     "output_type": "stream",
     "text": [
      "Not Found\n"
     ]
    }
   ],
   "source": [
    "student = {'name': 'Steve', 'age': 25, 'courses': ['Math', 'Biology']}\n",
    "\n",
    "print(student.get('phone', 'Not Found'))\n",
    "#you can alter the message in the case of a non-existant key"
   ]
  },
  {
   "cell_type": "code",
   "execution_count": 8,
   "metadata": {},
   "outputs": [
    {
     "name": "stdout",
     "output_type": "stream",
     "text": [
      "555-1212\n"
     ]
    }
   ],
   "source": [
    "#adding a key and its value\n",
    "student = {'name': 'Steve', 'age': 25, 'courses': ['Math', 'Biology']}\n",
    "\n",
    "student['phone'] = '555-1212'\n",
    "\n",
    "print(student.get('phone', 'Not Found'))"
   ]
  },
  {
   "cell_type": "code",
   "execution_count": 9,
   "metadata": {},
   "outputs": [
    {
     "name": "stdout",
     "output_type": "stream",
     "text": [
      "{'name': 'Joe', 'age': 25, 'courses': ['Math', 'Biology'], 'phone': '555-1212'}\n"
     ]
    }
   ],
   "source": [
    "#changing the student record\n",
    "student = {'name': 'Steve', 'age': 25, 'courses': ['Math', 'Biology']}\n",
    "\n",
    "student['phone'] = '555-1212'\n",
    "student['name'] = 'Joe'\n",
    "\n",
    "print(student)"
   ]
  },
  {
   "cell_type": "code",
   "execution_count": 10,
   "metadata": {},
   "outputs": [
    {
     "name": "stdout",
     "output_type": "stream",
     "text": [
      "{'name': 'Jane', 'age': 27, 'courses': ['Math', 'Biology'], 'phone': '555-5555'}\n"
     ]
    }
   ],
   "source": [
    "#using the 'update' function\n",
    "student = {'name': 'Steve', 'age': 25, 'courses': ['Math', 'Biology']}\n",
    "\n",
    "student.update({'name': 'Jane', 'age': 27, 'phone': '555-5555'})\n",
    "\n",
    "print(student)"
   ]
  },
  {
   "cell_type": "code",
   "execution_count": 11,
   "metadata": {},
   "outputs": [
    {
     "name": "stdout",
     "output_type": "stream",
     "text": [
      "{'name': 'Steve', 'courses': ['Math', 'Biology']}\n"
     ]
    }
   ],
   "source": [
    "#using the 'del' function\n",
    "student = {'name': 'Steve', 'age': 25, 'courses': ['Math', 'Biology']}\n",
    "\n",
    "del student['age']\n",
    "\n",
    "print(student)"
   ]
  },
  {
   "cell_type": "code",
   "execution_count": 13,
   "metadata": {},
   "outputs": [
    {
     "name": "stdout",
     "output_type": "stream",
     "text": [
      "{'name': 'Steve', 'courses': ['Math', 'Biology']}\n",
      "25\n"
     ]
    }
   ],
   "source": [
    "#using the pop method to delete a value and return it\n",
    "student = {'name': 'Steve', 'age': 25, 'courses': ['Math', 'Biology']}\n",
    "\n",
    "age = student.pop('age')\n",
    "\n",
    "print(student)\n",
    "print(age)"
   ]
  },
  {
   "cell_type": "code",
   "execution_count": 14,
   "metadata": {},
   "outputs": [
    {
     "name": "stdout",
     "output_type": "stream",
     "text": [
      "3\n"
     ]
    }
   ],
   "source": [
    "student = {'name': 'Steve', 'age': 25, 'courses': ['Math', 'Biology']}\n",
    "\n",
    "print(len(student))"
   ]
  },
  {
   "cell_type": "code",
   "execution_count": 15,
   "metadata": {},
   "outputs": [
    {
     "name": "stdout",
     "output_type": "stream",
     "text": [
      "dict_keys(['name', 'age', 'courses'])\n"
     ]
    }
   ],
   "source": [
    "#display only keys\n",
    "student = {'name': 'Steve', 'age': 25, 'courses': ['Math', 'Biology']}\n",
    "\n",
    "print(student.keys())"
   ]
  },
  {
   "cell_type": "code",
   "execution_count": 16,
   "metadata": {},
   "outputs": [
    {
     "name": "stdout",
     "output_type": "stream",
     "text": [
      "dict_values(['Steve', 25, ['Math', 'Biology']])\n"
     ]
    }
   ],
   "source": [
    "#display only values\n",
    "student = {'name': 'Steve', 'age': 25, 'courses': ['Math', 'Biology']}\n",
    "\n",
    "print(student.values())"
   ]
  },
  {
   "cell_type": "code",
   "execution_count": 17,
   "metadata": {},
   "outputs": [
    {
     "name": "stdout",
     "output_type": "stream",
     "text": [
      "dict_items([('name', 'Steve'), ('age', 25), ('courses', ['Math', 'Biology'])])\n"
     ]
    }
   ],
   "source": [
    "#display both keys and values\n",
    "student = {'name': 'Steve', 'age': 25, 'courses': ['Math', 'Biology']}\n",
    "\n",
    "print(student.items())"
   ]
  },
  {
   "cell_type": "code",
   "execution_count": 18,
   "metadata": {},
   "outputs": [
    {
     "name": "stdout",
     "output_type": "stream",
     "text": [
      "name\n",
      "age\n",
      "courses\n"
     ]
    }
   ],
   "source": [
    "student = {'name': 'Steve', 'age': 25, 'courses': ['Math', 'Biology']}\n",
    "\n",
    "for key in student:\n",
    "    print(key)"
   ]
  },
  {
   "cell_type": "code",
   "execution_count": 20,
   "metadata": {},
   "outputs": [
    {
     "name": "stdout",
     "output_type": "stream",
     "text": [
      "name Steve\n",
      "age 25\n",
      "courses ['Math', 'Biology']\n"
     ]
    }
   ],
   "source": [
    "student = {'name': 'Steve', 'age': 25, 'courses': ['Math', 'Biology']}\n",
    "\n",
    "for key, value in student.items():\n",
    "    print(key, value)"
   ]
  },
  {
   "cell_type": "code",
   "execution_count": null,
   "metadata": {},
   "outputs": [],
   "source": []
  }
 ],
 "metadata": {
  "kernelspec": {
   "display_name": "Python 3",
   "language": "python",
   "name": "python3"
  },
  "language_info": {
   "codemirror_mode": {
    "name": "ipython",
    "version": 3
   },
   "file_extension": ".py",
   "mimetype": "text/x-python",
   "name": "python",
   "nbconvert_exporter": "python",
   "pygments_lexer": "ipython3",
   "version": "3.7.4"
  }
 },
 "nbformat": 4,
 "nbformat_minor": 4
}
